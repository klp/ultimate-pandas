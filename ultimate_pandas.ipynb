{
 "cells": [
  {
   "cell_type": "markdown",
   "id": "47f9f7e6",
   "metadata": {},
   "source": [
    "# Panda Series\n",
    "\n",
    "Series are a special type of data structure available in the pandas Python library. Pandas Series are similar to NumPy arrays, except that we can give them a named or datetime index instead of just a numerical index."
   ]
  },
  {
   "cell_type": "code",
   "execution_count": 52,
   "id": "0c9077bb",
   "metadata": {},
   "outputs": [],
   "source": [
    "# The usual imports\n",
    "import numpy as np\n",
    "import pandas as pd"
   ]
  },
  {
   "cell_type": "code",
   "execution_count": 53,
   "id": "b677cc1f",
   "metadata": {},
   "outputs": [],
   "source": [
    "# create two lists, a NumPy array, and a dictionary.\n",
    "\n",
    "labels = ['a', 'b', 'c']\n",
    "\n",
    "my_list = [10, 20, 30]\n",
    "\n",
    "arr = np.array([10, 20, 30])\n",
    "\n",
    "d = {'a':10, 'b':20, 'c':30}"
   ]
  },
  {
   "cell_type": "markdown",
   "id": "8a509db5",
   "metadata": {},
   "source": [
    "The easiest way to create a pandas Series is by passing a vanilla Python list into the pd.Series() method."
   ]
  },
  {
   "cell_type": "code",
   "execution_count": 54,
   "id": "d8b1774d",
   "metadata": {},
   "outputs": [
    {
     "data": {
      "text/plain": [
       "0    10\n",
       "1    20\n",
       "2    30\n",
       "dtype: int64"
      ]
     },
     "execution_count": 54,
     "metadata": {},
     "output_type": "execute_result"
    }
   ],
   "source": [
    "pd.Series(my_list)"
   ]
  },
  {
   "cell_type": "code",
   "execution_count": 55,
   "id": "cf6d28cd",
   "metadata": {},
   "outputs": [
    {
     "data": {
      "text/plain": [
       "a    10\n",
       "b    20\n",
       "c    30\n",
       "dtype: int64"
      ]
     },
     "execution_count": 55,
     "metadata": {},
     "output_type": "execute_result"
    }
   ],
   "source": [
    "# adding index with our dict\n",
    "pd.Series(my_list, index=labels)"
   ]
  },
  {
   "cell_type": "markdown",
   "id": "a4209e24",
   "metadata": {},
   "source": [
    "Once labels have been applied to a pandas Series, you can use either its numerical index or its label."
   ]
  },
  {
   "cell_type": "code",
   "execution_count": 56,
   "id": "065ad9a0",
   "metadata": {},
   "outputs": [
    {
     "data": {
      "text/plain": [
       "10"
      ]
     },
     "execution_count": 56,
     "metadata": {},
     "output_type": "execute_result"
    }
   ],
   "source": [
    "Series = pd.Series(my_list, index=labels)\n",
    "Series[0]\n"
   ]
  },
  {
   "cell_type": "code",
   "execution_count": 57,
   "id": "5befe414",
   "metadata": {},
   "outputs": [
    {
     "data": {
      "text/plain": [
       "10"
      ]
     },
     "execution_count": 57,
     "metadata": {},
     "output_type": "execute_result"
    }
   ],
   "source": [
    "Series['a']"
   ]
  },
  {
   "cell_type": "code",
   "execution_count": 58,
   "id": "9112e850",
   "metadata": {},
   "outputs": [
    {
     "data": {
      "text/plain": [
       "a    10\n",
       "b    20\n",
       "c    30\n",
       "dtype: int64"
      ]
     },
     "execution_count": 58,
     "metadata": {},
     "output_type": "execute_result"
    }
   ],
   "source": [
    "# You can pass in a dict to make a panda Series\n",
    "pd.Series(d)"
   ]
  },
  {
   "cell_type": "markdown",
   "id": "26afb5f4",
   "metadata": {},
   "source": [
    "## Pandas flexibility\n",
    "\n",
    "Pandas Series are highly flexible. You can pass three of Python’s built-in functions into a pandas Series without getting an error, for instance."
   ]
  },
  {
   "cell_type": "code",
   "execution_count": 59,
   "id": "83692030",
   "metadata": {},
   "outputs": [
    {
     "data": {
      "text/plain": [
       "0      <built-in function sum>\n",
       "1    <built-in function print>\n",
       "2      <built-in function len>\n",
       "dtype: object"
      ]
     },
     "execution_count": 59,
     "metadata": {},
     "output_type": "execute_result"
    }
   ],
   "source": [
    "pd.Series([sum, print, len])"
   ]
  },
  {
   "cell_type": "markdown",
   "id": "0aa9fa2e",
   "metadata": {},
   "source": [
    "## Pandas Dataframes\n",
    "\n",
    "DataFrames are the most important data structure in the pandas library.\n",
    "\n",
    "A pandas DataFrame is a two-dimensional data structure that has labels for both its rows and columns. "
   ]
  },
  {
   "cell_type": "code",
   "execution_count": 62,
   "id": "b93592a4",
   "metadata": {},
   "outputs": [],
   "source": [
    "# Use vanilla lists to demonstrate\n",
    "rows = ['X', 'Y', 'Z']\n",
    "cols = ['A', 'B', 'C', 'D', 'E']"
   ]
  },
  {
   "cell_type": "markdown",
   "id": "f0afad2a",
   "metadata": {},
   "source": [
    "Next, create NumPy arrays in preparation for DataFrame by generating some random data."
   ]
  },
  {
   "cell_type": "code",
   "execution_count": 63,
   "id": "fa59a47a",
   "metadata": {},
   "outputs": [],
   "source": [
    "data = np.round(np.random.randn(3,5),2)"
   ]
  },
  {
   "cell_type": "markdown",
   "id": "fe803055",
   "metadata": {},
   "source": [
    "Now, wrap all of the constituent variables in the pd.DataFrame method to create a DataFrame."
   ]
  },
  {
   "cell_type": "code",
   "execution_count": 64,
   "id": "abe87084",
   "metadata": {},
   "outputs": [
    {
     "data": {
      "text/html": [
       "<div>\n",
       "<style scoped>\n",
       "    .dataframe tbody tr th:only-of-type {\n",
       "        vertical-align: middle;\n",
       "    }\n",
       "\n",
       "    .dataframe tbody tr th {\n",
       "        vertical-align: top;\n",
       "    }\n",
       "\n",
       "    .dataframe thead th {\n",
       "        text-align: right;\n",
       "    }\n",
       "</style>\n",
       "<table border=\"1\" class=\"dataframe\">\n",
       "  <thead>\n",
       "    <tr style=\"text-align: right;\">\n",
       "      <th></th>\n",
       "      <th>A</th>\n",
       "      <th>B</th>\n",
       "      <th>C</th>\n",
       "      <th>D</th>\n",
       "      <th>E</th>\n",
       "    </tr>\n",
       "  </thead>\n",
       "  <tbody>\n",
       "    <tr>\n",
       "      <th>X</th>\n",
       "      <td>0.97</td>\n",
       "      <td>1.23</td>\n",
       "      <td>1.58</td>\n",
       "      <td>0.23</td>\n",
       "      <td>0.11</td>\n",
       "    </tr>\n",
       "    <tr>\n",
       "      <th>Y</th>\n",
       "      <td>-1.13</td>\n",
       "      <td>0.32</td>\n",
       "      <td>-1.88</td>\n",
       "      <td>1.08</td>\n",
       "      <td>0.75</td>\n",
       "    </tr>\n",
       "    <tr>\n",
       "      <th>Z</th>\n",
       "      <td>-0.73</td>\n",
       "      <td>-2.18</td>\n",
       "      <td>-0.89</td>\n",
       "      <td>0.23</td>\n",
       "      <td>-0.70</td>\n",
       "    </tr>\n",
       "  </tbody>\n",
       "</table>\n",
       "</div>"
      ],
      "text/plain": [
       "      A     B     C     D     E\n",
       "X  0.97  1.23  1.58  0.23  0.11\n",
       "Y -1.13  0.32 -1.88  1.08  0.75\n",
       "Z -0.73 -2.18 -0.89  0.23 -0.70"
      ]
     },
     "execution_count": 64,
     "metadata": {},
     "output_type": "execute_result"
    }
   ],
   "source": [
    "pd.DataFrame(data, rows, cols)"
   ]
  },
  {
   "cell_type": "markdown",
   "id": "679a374d",
   "metadata": {},
   "source": [
    "Each of the columns are a pandas series."
   ]
  },
  {
   "cell_type": "markdown",
   "id": "fd3d0182",
   "metadata": {},
   "source": [
    "## Indexing and Assignment in Pandas DataFrames\n",
    "\n",
    "We can actually call a specific Series from a pandas DataFrame using square brackets, just like how we call a element from a list."
   ]
  },
  {
   "cell_type": "code",
   "execution_count": 65,
   "id": "af7c1e54",
   "metadata": {},
   "outputs": [],
   "source": [
    "df = pd.DataFrame(data, rows, cols)"
   ]
  },
  {
   "cell_type": "code",
   "execution_count": 66,
   "id": "4c8d4921",
   "metadata": {},
   "outputs": [
    {
     "data": {
      "text/html": [
       "<div>\n",
       "<style scoped>\n",
       "    .dataframe tbody tr th:only-of-type {\n",
       "        vertical-align: middle;\n",
       "    }\n",
       "\n",
       "    .dataframe tbody tr th {\n",
       "        vertical-align: top;\n",
       "    }\n",
       "\n",
       "    .dataframe thead th {\n",
       "        text-align: right;\n",
       "    }\n",
       "</style>\n",
       "<table border=\"1\" class=\"dataframe\">\n",
       "  <thead>\n",
       "    <tr style=\"text-align: right;\">\n",
       "      <th></th>\n",
       "      <th>A</th>\n",
       "      <th>B</th>\n",
       "      <th>C</th>\n",
       "      <th>D</th>\n",
       "      <th>E</th>\n",
       "    </tr>\n",
       "  </thead>\n",
       "  <tbody>\n",
       "    <tr>\n",
       "      <th>X</th>\n",
       "      <td>0.97</td>\n",
       "      <td>1.23</td>\n",
       "      <td>1.58</td>\n",
       "      <td>0.23</td>\n",
       "      <td>0.11</td>\n",
       "    </tr>\n",
       "    <tr>\n",
       "      <th>Y</th>\n",
       "      <td>-1.13</td>\n",
       "      <td>0.32</td>\n",
       "      <td>-1.88</td>\n",
       "      <td>1.08</td>\n",
       "      <td>0.75</td>\n",
       "    </tr>\n",
       "    <tr>\n",
       "      <th>Z</th>\n",
       "      <td>-0.73</td>\n",
       "      <td>-2.18</td>\n",
       "      <td>-0.89</td>\n",
       "      <td>0.23</td>\n",
       "      <td>-0.70</td>\n",
       "    </tr>\n",
       "  </tbody>\n",
       "</table>\n",
       "</div>"
      ],
      "text/plain": [
       "      A     B     C     D     E\n",
       "X  0.97  1.23  1.58  0.23  0.11\n",
       "Y -1.13  0.32 -1.88  1.08  0.75\n",
       "Z -0.73 -2.18 -0.89  0.23 -0.70"
      ]
     },
     "execution_count": 66,
     "metadata": {},
     "output_type": "execute_result"
    }
   ],
   "source": [
    "df"
   ]
  },
  {
   "cell_type": "code",
   "execution_count": 67,
   "id": "2a0999f0",
   "metadata": {},
   "outputs": [
    {
     "data": {
      "text/plain": [
       "X    0.97\n",
       "Y   -1.13\n",
       "Z   -0.73\n",
       "Name: A, dtype: float64"
      ]
     },
     "execution_count": 67,
     "metadata": {},
     "output_type": "execute_result"
    }
   ],
   "source": [
    "df['A']"
   ]
  },
  {
   "cell_type": "code",
   "execution_count": 68,
   "id": "a3acb4e2",
   "metadata": {},
   "outputs": [
    {
     "data": {
      "text/plain": [
       "X    0.11\n",
       "Y    0.75\n",
       "Z   -0.70\n",
       "Name: E, dtype: float64"
      ]
     },
     "execution_count": 68,
     "metadata": {},
     "output_type": "execute_result"
    }
   ],
   "source": [
    "df['E']"
   ]
  },
  {
   "cell_type": "markdown",
   "id": "d2fa3b8f",
   "metadata": {},
   "source": [
    "You can pass a list of columns if you want to pull a subset of all columns in a DataFrame."
   ]
  },
  {
   "cell_type": "code",
   "execution_count": 69,
   "id": "0a24e5ba",
   "metadata": {},
   "outputs": [
    {
     "data": {
      "text/html": [
       "<div>\n",
       "<style scoped>\n",
       "    .dataframe tbody tr th:only-of-type {\n",
       "        vertical-align: middle;\n",
       "    }\n",
       "\n",
       "    .dataframe tbody tr th {\n",
       "        vertical-align: top;\n",
       "    }\n",
       "\n",
       "    .dataframe thead th {\n",
       "        text-align: right;\n",
       "    }\n",
       "</style>\n",
       "<table border=\"1\" class=\"dataframe\">\n",
       "  <thead>\n",
       "    <tr style=\"text-align: right;\">\n",
       "      <th></th>\n",
       "      <th>A</th>\n",
       "      <th>E</th>\n",
       "    </tr>\n",
       "  </thead>\n",
       "  <tbody>\n",
       "    <tr>\n",
       "      <th>X</th>\n",
       "      <td>0.97</td>\n",
       "      <td>0.11</td>\n",
       "    </tr>\n",
       "    <tr>\n",
       "      <th>Y</th>\n",
       "      <td>-1.13</td>\n",
       "      <td>0.75</td>\n",
       "    </tr>\n",
       "    <tr>\n",
       "      <th>Z</th>\n",
       "      <td>-0.73</td>\n",
       "      <td>-0.70</td>\n",
       "    </tr>\n",
       "  </tbody>\n",
       "</table>\n",
       "</div>"
      ],
      "text/plain": [
       "      A     E\n",
       "X  0.97  0.11\n",
       "Y -1.13  0.75\n",
       "Z -0.73 -0.70"
      ]
     },
     "execution_count": 69,
     "metadata": {},
     "output_type": "execute_result"
    }
   ],
   "source": [
    "col_i_want = ['A', 'E']\n",
    "\n",
    "df[col_i_want]"
   ]
  },
  {
   "cell_type": "markdown",
   "id": "4877e939",
   "metadata": {},
   "source": [
    "Chaining list elements can get you a specific 'cell' in a DataFrame."
   ]
  },
  {
   "cell_type": "code",
   "execution_count": 70,
   "id": "653d414b",
   "metadata": {},
   "outputs": [
    {
     "data": {
      "text/plain": [
       "-2.18"
      ]
     },
     "execution_count": 70,
     "metadata": {},
     "output_type": "execute_result"
    }
   ],
   "source": [
    "df['B']['Z']"
   ]
  },
  {
   "cell_type": "markdown",
   "id": "6ef2cc1a",
   "metadata": {},
   "source": [
    "## Create / Remove Columns from a DataFrame"
   ]
  },
  {
   "cell_type": "markdown",
   "id": "23f9546f",
   "metadata": {},
   "source": [
    "Create a new column called ‘A + B’ which is the sum of columns A and B:"
   ]
  },
  {
   "cell_type": "code",
   "execution_count": 71,
   "id": "7d7d2243",
   "metadata": {},
   "outputs": [
    {
     "data": {
      "text/html": [
       "<div>\n",
       "<style scoped>\n",
       "    .dataframe tbody tr th:only-of-type {\n",
       "        vertical-align: middle;\n",
       "    }\n",
       "\n",
       "    .dataframe tbody tr th {\n",
       "        vertical-align: top;\n",
       "    }\n",
       "\n",
       "    .dataframe thead th {\n",
       "        text-align: right;\n",
       "    }\n",
       "</style>\n",
       "<table border=\"1\" class=\"dataframe\">\n",
       "  <thead>\n",
       "    <tr style=\"text-align: right;\">\n",
       "      <th></th>\n",
       "      <th>A</th>\n",
       "      <th>B</th>\n",
       "      <th>C</th>\n",
       "      <th>D</th>\n",
       "      <th>E</th>\n",
       "      <th>A + B</th>\n",
       "    </tr>\n",
       "  </thead>\n",
       "  <tbody>\n",
       "    <tr>\n",
       "      <th>X</th>\n",
       "      <td>0.97</td>\n",
       "      <td>1.23</td>\n",
       "      <td>1.58</td>\n",
       "      <td>0.23</td>\n",
       "      <td>0.11</td>\n",
       "      <td>2.20</td>\n",
       "    </tr>\n",
       "    <tr>\n",
       "      <th>Y</th>\n",
       "      <td>-1.13</td>\n",
       "      <td>0.32</td>\n",
       "      <td>-1.88</td>\n",
       "      <td>1.08</td>\n",
       "      <td>0.75</td>\n",
       "      <td>-0.81</td>\n",
       "    </tr>\n",
       "    <tr>\n",
       "      <th>Z</th>\n",
       "      <td>-0.73</td>\n",
       "      <td>-2.18</td>\n",
       "      <td>-0.89</td>\n",
       "      <td>0.23</td>\n",
       "      <td>-0.70</td>\n",
       "      <td>-2.91</td>\n",
       "    </tr>\n",
       "  </tbody>\n",
       "</table>\n",
       "</div>"
      ],
      "text/plain": [
       "      A     B     C     D     E  A + B\n",
       "X  0.97  1.23  1.58  0.23  0.11   2.20\n",
       "Y -1.13  0.32 -1.88  1.08  0.75  -0.81\n",
       "Z -0.73 -2.18 -0.89  0.23 -0.70  -2.91"
      ]
     },
     "execution_count": 71,
     "metadata": {},
     "output_type": "execute_result"
    }
   ],
   "source": [
    "df['A + B']= df['A'] + df['B']\n",
    "df"
   ]
  },
  {
   "cell_type": "markdown",
   "id": "a698cb6c",
   "metadata": {},
   "source": [
    "If I want to remove this column use `pd.DataFrame.drop` method. Without `axis = 1` below, we would be attempting to remove a row."
   ]
  },
  {
   "cell_type": "code",
   "execution_count": 72,
   "id": "eb747a6f",
   "metadata": {},
   "outputs": [
    {
     "data": {
      "text/html": [
       "<div>\n",
       "<style scoped>\n",
       "    .dataframe tbody tr th:only-of-type {\n",
       "        vertical-align: middle;\n",
       "    }\n",
       "\n",
       "    .dataframe tbody tr th {\n",
       "        vertical-align: top;\n",
       "    }\n",
       "\n",
       "    .dataframe thead th {\n",
       "        text-align: right;\n",
       "    }\n",
       "</style>\n",
       "<table border=\"1\" class=\"dataframe\">\n",
       "  <thead>\n",
       "    <tr style=\"text-align: right;\">\n",
       "      <th></th>\n",
       "      <th>A</th>\n",
       "      <th>B</th>\n",
       "      <th>C</th>\n",
       "      <th>D</th>\n",
       "      <th>E</th>\n",
       "    </tr>\n",
       "  </thead>\n",
       "  <tbody>\n",
       "    <tr>\n",
       "      <th>X</th>\n",
       "      <td>0.97</td>\n",
       "      <td>1.23</td>\n",
       "      <td>1.58</td>\n",
       "      <td>0.23</td>\n",
       "      <td>0.11</td>\n",
       "    </tr>\n",
       "    <tr>\n",
       "      <th>Y</th>\n",
       "      <td>-1.13</td>\n",
       "      <td>0.32</td>\n",
       "      <td>-1.88</td>\n",
       "      <td>1.08</td>\n",
       "      <td>0.75</td>\n",
       "    </tr>\n",
       "    <tr>\n",
       "      <th>Z</th>\n",
       "      <td>-0.73</td>\n",
       "      <td>-2.18</td>\n",
       "      <td>-0.89</td>\n",
       "      <td>0.23</td>\n",
       "      <td>-0.70</td>\n",
       "    </tr>\n",
       "  </tbody>\n",
       "</table>\n",
       "</div>"
      ],
      "text/plain": [
       "      A     B     C     D     E\n",
       "X  0.97  1.23  1.58  0.23  0.11\n",
       "Y -1.13  0.32 -1.88  1.08  0.75\n",
       "Z -0.73 -2.18 -0.89  0.23 -0.70"
      ]
     },
     "execution_count": 72,
     "metadata": {},
     "output_type": "execute_result"
    }
   ],
   "source": [
    "df.drop('A + B', axis = 1)"
   ]
  },
  {
   "cell_type": "markdown",
   "id": "59952d68",
   "metadata": {},
   "source": [
    "Note that this method doesn't modify the DataFrame itself."
   ]
  },
  {
   "cell_type": "code",
   "execution_count": 73,
   "id": "d48c9e36",
   "metadata": {},
   "outputs": [
    {
     "data": {
      "text/html": [
       "<div>\n",
       "<style scoped>\n",
       "    .dataframe tbody tr th:only-of-type {\n",
       "        vertical-align: middle;\n",
       "    }\n",
       "\n",
       "    .dataframe tbody tr th {\n",
       "        vertical-align: top;\n",
       "    }\n",
       "\n",
       "    .dataframe thead th {\n",
       "        text-align: right;\n",
       "    }\n",
       "</style>\n",
       "<table border=\"1\" class=\"dataframe\">\n",
       "  <thead>\n",
       "    <tr style=\"text-align: right;\">\n",
       "      <th></th>\n",
       "      <th>A</th>\n",
       "      <th>B</th>\n",
       "      <th>C</th>\n",
       "      <th>D</th>\n",
       "      <th>E</th>\n",
       "      <th>A + B</th>\n",
       "    </tr>\n",
       "  </thead>\n",
       "  <tbody>\n",
       "    <tr>\n",
       "      <th>X</th>\n",
       "      <td>0.97</td>\n",
       "      <td>1.23</td>\n",
       "      <td>1.58</td>\n",
       "      <td>0.23</td>\n",
       "      <td>0.11</td>\n",
       "      <td>2.20</td>\n",
       "    </tr>\n",
       "    <tr>\n",
       "      <th>Y</th>\n",
       "      <td>-1.13</td>\n",
       "      <td>0.32</td>\n",
       "      <td>-1.88</td>\n",
       "      <td>1.08</td>\n",
       "      <td>0.75</td>\n",
       "      <td>-0.81</td>\n",
       "    </tr>\n",
       "    <tr>\n",
       "      <th>Z</th>\n",
       "      <td>-0.73</td>\n",
       "      <td>-2.18</td>\n",
       "      <td>-0.89</td>\n",
       "      <td>0.23</td>\n",
       "      <td>-0.70</td>\n",
       "      <td>-2.91</td>\n",
       "    </tr>\n",
       "  </tbody>\n",
       "</table>\n",
       "</div>"
      ],
      "text/plain": [
       "      A     B     C     D     E  A + B\n",
       "X  0.97  1.23  1.58  0.23  0.11   2.20\n",
       "Y -1.13  0.32 -1.88  1.08  0.75  -0.81\n",
       "Z -0.73 -2.18 -0.89  0.23 -0.70  -2.91"
      ]
     },
     "execution_count": 73,
     "metadata": {},
     "output_type": "execute_result"
    }
   ],
   "source": [
    "df"
   ]
  },
  {
   "cell_type": "markdown",
   "id": "6eb0a03e",
   "metadata": {},
   "source": [
    "Two ways to make pandas automatically overwrite the current DataFrame."
   ]
  },
  {
   "cell_type": "code",
   "execution_count": 74,
   "id": "2d738121",
   "metadata": {},
   "outputs": [
    {
     "data": {
      "text/html": [
       "<div>\n",
       "<style scoped>\n",
       "    .dataframe tbody tr th:only-of-type {\n",
       "        vertical-align: middle;\n",
       "    }\n",
       "\n",
       "    .dataframe tbody tr th {\n",
       "        vertical-align: top;\n",
       "    }\n",
       "\n",
       "    .dataframe thead th {\n",
       "        text-align: right;\n",
       "    }\n",
       "</style>\n",
       "<table border=\"1\" class=\"dataframe\">\n",
       "  <thead>\n",
       "    <tr style=\"text-align: right;\">\n",
       "      <th></th>\n",
       "      <th>A</th>\n",
       "      <th>B</th>\n",
       "      <th>C</th>\n",
       "      <th>D</th>\n",
       "      <th>E</th>\n",
       "    </tr>\n",
       "  </thead>\n",
       "  <tbody>\n",
       "    <tr>\n",
       "      <th>X</th>\n",
       "      <td>0.97</td>\n",
       "      <td>1.23</td>\n",
       "      <td>1.58</td>\n",
       "      <td>0.23</td>\n",
       "      <td>0.11</td>\n",
       "    </tr>\n",
       "    <tr>\n",
       "      <th>Y</th>\n",
       "      <td>-1.13</td>\n",
       "      <td>0.32</td>\n",
       "      <td>-1.88</td>\n",
       "      <td>1.08</td>\n",
       "      <td>0.75</td>\n",
       "    </tr>\n",
       "    <tr>\n",
       "      <th>Z</th>\n",
       "      <td>-0.73</td>\n",
       "      <td>-2.18</td>\n",
       "      <td>-0.89</td>\n",
       "      <td>0.23</td>\n",
       "      <td>-0.70</td>\n",
       "    </tr>\n",
       "  </tbody>\n",
       "</table>\n",
       "</div>"
      ],
      "text/plain": [
       "      A     B     C     D     E\n",
       "X  0.97  1.23  1.58  0.23  0.11\n",
       "Y -1.13  0.32 -1.88  1.08  0.75\n",
       "Z -0.73 -2.18 -0.89  0.23 -0.70"
      ]
     },
     "execution_count": 74,
     "metadata": {},
     "output_type": "execute_result"
    }
   ],
   "source": [
    "df.drop('A + B', axis=1, inplace=True)\n",
    "df"
   ]
  },
  {
   "cell_type": "code",
   "execution_count": 75,
   "id": "d7e530fc",
   "metadata": {},
   "outputs": [
    {
     "data": {
      "text/html": [
       "<div>\n",
       "<style scoped>\n",
       "    .dataframe tbody tr th:only-of-type {\n",
       "        vertical-align: middle;\n",
       "    }\n",
       "\n",
       "    .dataframe tbody tr th {\n",
       "        vertical-align: top;\n",
       "    }\n",
       "\n",
       "    .dataframe thead th {\n",
       "        text-align: right;\n",
       "    }\n",
       "</style>\n",
       "<table border=\"1\" class=\"dataframe\">\n",
       "  <thead>\n",
       "    <tr style=\"text-align: right;\">\n",
       "      <th></th>\n",
       "      <th>A</th>\n",
       "      <th>B</th>\n",
       "      <th>C</th>\n",
       "      <th>D</th>\n",
       "      <th>E</th>\n",
       "      <th>A + B</th>\n",
       "    </tr>\n",
       "  </thead>\n",
       "  <tbody>\n",
       "    <tr>\n",
       "      <th>X</th>\n",
       "      <td>0.97</td>\n",
       "      <td>1.23</td>\n",
       "      <td>1.58</td>\n",
       "      <td>0.23</td>\n",
       "      <td>0.11</td>\n",
       "      <td>2.20</td>\n",
       "    </tr>\n",
       "    <tr>\n",
       "      <th>Y</th>\n",
       "      <td>-1.13</td>\n",
       "      <td>0.32</td>\n",
       "      <td>-1.88</td>\n",
       "      <td>1.08</td>\n",
       "      <td>0.75</td>\n",
       "      <td>-0.81</td>\n",
       "    </tr>\n",
       "    <tr>\n",
       "      <th>Z</th>\n",
       "      <td>-0.73</td>\n",
       "      <td>-2.18</td>\n",
       "      <td>-0.89</td>\n",
       "      <td>0.23</td>\n",
       "      <td>-0.70</td>\n",
       "      <td>-2.91</td>\n",
       "    </tr>\n",
       "  </tbody>\n",
       "</table>\n",
       "</div>"
      ],
      "text/plain": [
       "      A     B     C     D     E  A + B\n",
       "X  0.97  1.23  1.58  0.23  0.11   2.20\n",
       "Y -1.13  0.32 -1.88  1.08  0.75  -0.81\n",
       "Z -0.73 -2.18 -0.89  0.23 -0.70  -2.91"
      ]
     },
     "execution_count": 75,
     "metadata": {},
     "output_type": "execute_result"
    }
   ],
   "source": [
    "df['A + B']= df['A'] + df['B']\n",
    "df"
   ]
  },
  {
   "cell_type": "code",
   "execution_count": 76,
   "id": "4f6030f0",
   "metadata": {},
   "outputs": [
    {
     "data": {
      "text/html": [
       "<div>\n",
       "<style scoped>\n",
       "    .dataframe tbody tr th:only-of-type {\n",
       "        vertical-align: middle;\n",
       "    }\n",
       "\n",
       "    .dataframe tbody tr th {\n",
       "        vertical-align: top;\n",
       "    }\n",
       "\n",
       "    .dataframe thead th {\n",
       "        text-align: right;\n",
       "    }\n",
       "</style>\n",
       "<table border=\"1\" class=\"dataframe\">\n",
       "  <thead>\n",
       "    <tr style=\"text-align: right;\">\n",
       "      <th></th>\n",
       "      <th>A</th>\n",
       "      <th>B</th>\n",
       "      <th>C</th>\n",
       "      <th>D</th>\n",
       "      <th>E</th>\n",
       "    </tr>\n",
       "  </thead>\n",
       "  <tbody>\n",
       "    <tr>\n",
       "      <th>X</th>\n",
       "      <td>0.97</td>\n",
       "      <td>1.23</td>\n",
       "      <td>1.58</td>\n",
       "      <td>0.23</td>\n",
       "      <td>0.11</td>\n",
       "    </tr>\n",
       "    <tr>\n",
       "      <th>Y</th>\n",
       "      <td>-1.13</td>\n",
       "      <td>0.32</td>\n",
       "      <td>-1.88</td>\n",
       "      <td>1.08</td>\n",
       "      <td>0.75</td>\n",
       "    </tr>\n",
       "    <tr>\n",
       "      <th>Z</th>\n",
       "      <td>-0.73</td>\n",
       "      <td>-2.18</td>\n",
       "      <td>-0.89</td>\n",
       "      <td>0.23</td>\n",
       "      <td>-0.70</td>\n",
       "    </tr>\n",
       "  </tbody>\n",
       "</table>\n",
       "</div>"
      ],
      "text/plain": [
       "      A     B     C     D     E\n",
       "X  0.97  1.23  1.58  0.23  0.11\n",
       "Y -1.13  0.32 -1.88  1.08  0.75\n",
       "Z -0.73 -2.18 -0.89  0.23 -0.70"
      ]
     },
     "execution_count": 76,
     "metadata": {},
     "output_type": "execute_result"
    }
   ],
   "source": [
    "df = df.drop('A + B', axis=1)\n",
    "df"
   ]
  },
  {
   "cell_type": "markdown",
   "id": "a7a48868",
   "metadata": {},
   "source": [
    "You can drop a row if you wanted to."
   ]
  },
  {
   "cell_type": "code",
   "execution_count": 79,
   "id": "1721f0ca",
   "metadata": {},
   "outputs": [
    {
     "data": {
      "text/html": [
       "<div>\n",
       "<style scoped>\n",
       "    .dataframe tbody tr th:only-of-type {\n",
       "        vertical-align: middle;\n",
       "    }\n",
       "\n",
       "    .dataframe tbody tr th {\n",
       "        vertical-align: top;\n",
       "    }\n",
       "\n",
       "    .dataframe thead th {\n",
       "        text-align: right;\n",
       "    }\n",
       "</style>\n",
       "<table border=\"1\" class=\"dataframe\">\n",
       "  <thead>\n",
       "    <tr style=\"text-align: right;\">\n",
       "      <th></th>\n",
       "      <th>A</th>\n",
       "      <th>B</th>\n",
       "      <th>C</th>\n",
       "      <th>D</th>\n",
       "      <th>E</th>\n",
       "    </tr>\n",
       "  </thead>\n",
       "  <tbody>\n",
       "    <tr>\n",
       "      <th>X</th>\n",
       "      <td>0.97</td>\n",
       "      <td>1.23</td>\n",
       "      <td>1.58</td>\n",
       "      <td>0.23</td>\n",
       "      <td>0.11</td>\n",
       "    </tr>\n",
       "    <tr>\n",
       "      <th>Y</th>\n",
       "      <td>-1.13</td>\n",
       "      <td>0.32</td>\n",
       "      <td>-1.88</td>\n",
       "      <td>1.08</td>\n",
       "      <td>0.75</td>\n",
       "    </tr>\n",
       "  </tbody>\n",
       "</table>\n",
       "</div>"
      ],
      "text/plain": [
       "      A     B     C     D     E\n",
       "X  0.97  1.23  1.58  0.23  0.11\n",
       "Y -1.13  0.32 -1.88  1.08  0.75"
      ]
     },
     "execution_count": 79,
     "metadata": {},
     "output_type": "execute_result"
    }
   ],
   "source": [
    "df.drop(['Z'])"
   ]
  },
  {
   "cell_type": "markdown",
   "id": "61b3ad88",
   "metadata": {},
   "source": [
    "## Select A Row From A Pandas DataFrame\n",
    "\n",
    "DataFrame rows can be accessed by their row label using the `loc` attribute along with square brackets. You can use row label."
   ]
  },
  {
   "cell_type": "code",
   "execution_count": 80,
   "id": "3e9dbf2c",
   "metadata": {},
   "outputs": [
    {
     "data": {
      "text/plain": [
       "A    0.97\n",
       "B    1.23\n",
       "C    1.58\n",
       "D    0.23\n",
       "E    0.11\n",
       "Name: X, dtype: float64"
      ]
     },
     "execution_count": 80,
     "metadata": {},
     "output_type": "execute_result"
    }
   ],
   "source": [
    "df.loc['X']"
   ]
  },
  {
   "cell_type": "markdown",
   "id": "bb6a1e57",
   "metadata": {},
   "source": [
    "You can use numerical index with `iloc`."
   ]
  },
  {
   "cell_type": "code",
   "execution_count": 82,
   "id": "48f45de7",
   "metadata": {},
   "outputs": [
    {
     "data": {
      "text/plain": [
       "A    0.97\n",
       "B    1.23\n",
       "C    1.58\n",
       "D    0.23\n",
       "E    0.11\n",
       "Name: X, dtype: float64"
      ]
     },
     "execution_count": 82,
     "metadata": {},
     "output_type": "execute_result"
    }
   ],
   "source": [
    "df.iloc[0]"
   ]
  },
  {
   "cell_type": "markdown",
   "id": "a1709e35",
   "metadata": {},
   "source": [
    "## Getting shape"
   ]
  },
  {
   "cell_type": "code",
   "execution_count": 83,
   "id": "1056657e",
   "metadata": {},
   "outputs": [
    {
     "data": {
      "text/plain": [
       "(3, 5)"
      ]
     },
     "execution_count": 83,
     "metadata": {},
     "output_type": "execute_result"
    }
   ],
   "source": [
    "df.shape"
   ]
  },
  {
   "cell_type": "markdown",
   "id": "31ef6d6f",
   "metadata": {},
   "source": [
    "## Slicing DataFrames\n",
    "\n",
    "Select a subset of a DataFrame"
   ]
  },
  {
   "cell_type": "code",
   "execution_count": 84,
   "id": "cc6e1318",
   "metadata": {},
   "outputs": [
    {
     "data": {
      "text/html": [
       "<div>\n",
       "<style scoped>\n",
       "    .dataframe tbody tr th:only-of-type {\n",
       "        vertical-align: middle;\n",
       "    }\n",
       "\n",
       "    .dataframe tbody tr th {\n",
       "        vertical-align: top;\n",
       "    }\n",
       "\n",
       "    .dataframe thead th {\n",
       "        text-align: right;\n",
       "    }\n",
       "</style>\n",
       "<table border=\"1\" class=\"dataframe\">\n",
       "  <thead>\n",
       "    <tr style=\"text-align: right;\">\n",
       "      <th></th>\n",
       "      <th>A</th>\n",
       "      <th>B</th>\n",
       "    </tr>\n",
       "  </thead>\n",
       "  <tbody>\n",
       "    <tr>\n",
       "      <th>X</th>\n",
       "      <td>0.97</td>\n",
       "      <td>1.23</td>\n",
       "    </tr>\n",
       "    <tr>\n",
       "      <th>Y</th>\n",
       "      <td>-1.13</td>\n",
       "      <td>0.32</td>\n",
       "    </tr>\n",
       "  </tbody>\n",
       "</table>\n",
       "</div>"
      ],
      "text/plain": [
       "      A     B\n",
       "X  0.97  1.23\n",
       "Y -1.13  0.32"
      ]
     },
     "execution_count": 84,
     "metadata": {},
     "output_type": "execute_result"
    }
   ],
   "source": [
    "# first two columns, first two rows\n",
    "df[['A', 'B']].loc[['X', 'Y']]"
   ]
  },
  {
   "cell_type": "code",
   "execution_count": null,
   "id": "03a04c08",
   "metadata": {},
   "outputs": [],
   "source": []
  }
 ],
 "metadata": {
  "kernelspec": {
   "display_name": "Python 3 (ipykernel)",
   "language": "python",
   "name": "python3"
  },
  "language_info": {
   "codemirror_mode": {
    "name": "ipython",
    "version": 3
   },
   "file_extension": ".py",
   "mimetype": "text/x-python",
   "name": "python",
   "nbconvert_exporter": "python",
   "pygments_lexer": "ipython3",
   "version": "3.10.6"
  }
 },
 "nbformat": 4,
 "nbformat_minor": 5
}
